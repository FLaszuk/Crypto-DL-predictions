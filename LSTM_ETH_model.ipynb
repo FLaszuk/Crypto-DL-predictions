{
  "nbformat": 4,
  "nbformat_minor": 0,
  "metadata": {
    "colab": {
      "name": "LSTM-ETH model",
      "provenance": [],
      "authorship_tag": "ABX9TyM2tQVUL7vwXQSP38I3nIj/",
      "include_colab_link": true
    },
    "kernelspec": {
      "name": "python3",
      "display_name": "Python 3"
    }
  },
  "cells": [
    {
      "cell_type": "markdown",
      "metadata": {
        "id": "view-in-github",
        "colab_type": "text"
      },
      "source": [
        "<a href=\"https://colab.research.google.com/github/FLaszuk/Crypto-DL-predictions/blob/main/LSTM_ETH_model.ipynb\" target=\"_parent\"><img src=\"https://colab.research.google.com/assets/colab-badge.svg\" alt=\"Open In Colab\"/></a>"
      ]
    },
    {
      "cell_type": "markdown",
      "metadata": {
        "id": "Tf3CUFuEh4cP"
      },
      "source": [
        "##Model preparation - 1min"
      ]
    },
    {
      "cell_type": "code",
      "metadata": {
        "colab": {
          "base_uri": "https://localhost:8080/"
        },
        "id": "b8UFKDAWhomI",
        "outputId": "d6fa9b2b-ac77-4dcc-eaf7-020f73c5a9f6"
      },
      "source": [
        "!pip install python-binance\r\n",
        "import pandas as pd\r\n",
        "import numpy as np\r\n",
        "import matplotlib.pyplot as plt\r\n",
        "%matplotlib inline\r\n",
        "from binance.client import Client\r\n",
        "from keras.layers.core import Dense, Activation, Dropout\r\n",
        "from keras.layers.recurrent import LSTM\r\n",
        "from keras.models import Sequential\r\n",
        "from sklearn.preprocessing import MinMaxScaler\r\n",
        "from sklearn.model_selection import train_test_split\r\n",
        "from sklearn.svm import SVR\r\n",
        "import math\r\n",
        "\r\n",
        "apiKey = \"***\"\r\n",
        "secretKey = \"***\"\r\n",
        "\r\n",
        "client = Client(apiKey, secretKey)\r\n",
        "\r\n",
        "symbol = \"ETHUSDT\"\r\n",
        "\r\n",
        "currency = client.get_historical_klines(symbol=symbol, interval=Client.KLINE_INTERVAL_1HOUR, start_str=\"1 year ago UTC\")\r\n",
        "\r\n",
        "currency = pd.DataFrame(currency, columns = ['Open time', 'Open', 'High', 'Low', 'Close', 'Volume', 'Close time', 'Quote asset volume',\r\n",
        "                                  'Number of trades', 'Taker buy base asset volume', 'Taker buy quote asset volume', 'Ignore'])\r\n",
        "\r\n",
        "currency['Open time'] = pd.to_datetime(currency['Open time'], unit='ms')\r\n",
        "\r\n",
        "currency.set_index('Open time', inplace = True)\r\n",
        "currency['Close'] = currency['Close'].astype(float)\r\n",
        "currency['Volume'] = currency['Volume'].astype(float)\r\n",
        "currency['Open'] = currency['Open'].astype(float)\r\n",
        "currency['High'] = currency['High'].astype(float)\r\n",
        "currency['Low'] = currency['Low'].astype(float)\r\n",
        "currency = currency.drop(currency[['Close time', 'Quote asset volume', 'Number of trades', 'Taker buy base asset volume', 'Taker buy quote asset volume', 'Ignore']], 1)\r\n",
        "\r\n",
        "currency['Close'].plot(figsize=(7,2), title = '1 year ETH price', grid=True)\r\n",
        "\r\n",
        "data = currency.filter(['Close'])\r\n",
        "\r\n",
        "dataset = data.values\r\n",
        "\r\n",
        "training_data_len = math.ceil(len(dataset) * 0.8)\r\n",
        "\r\n",
        "scaler = MinMaxScaler(feature_range=(0,1))\r\n",
        "scaled_data = scaler.fit_transform(dataset)\r\n",
        "\r\n",
        "train_data = scaled_data[0:training_data_len, :]\r\n",
        "\r\n",
        "X_train = []\r\n",
        "y_train = []\r\n",
        "\r\n",
        "for i in range(60, len(train_data)):\r\n",
        "    X_train.append(train_data[i-60:i, 0])\r\n",
        "    y_train.append(train_data[i, 0])\r\n",
        "#    if i <= 60:\r\n",
        "#        print(X_train)\r\n",
        "#        print(y_train)\r\n",
        "#        print()\r\n",
        "\r\n",
        "X_train, y_train = np.array(X_train), np.array(y_train)\r\n",
        "X_train = np.reshape(X_train, (X_train.shape[0], X_train.shape[1], 1))\r\n",
        "\r\n",
        "model = Sequential()\r\n",
        "model.add(LSTM(50, return_sequences=True, input_shape = (X_train.shape[1], 1)))\r\n",
        "model.add(LSTM(50, return_sequences=False))\r\n",
        "model.add(Dense(25))\r\n",
        "model.add(Dense(1))\r\n",
        "\r\n",
        "model.compile(optimizer = 'adam', loss = 'mean_squared_error')\r\n",
        "\r\n",
        "model.fit(X_train, y_train, batch_size=1, epochs=25)\r\n",
        "\r\n",
        "test_data = scaled_data[training_data_len - 60: , :]\r\n",
        "X_test = []\r\n",
        "y_test = dataset[training_data_len:, :]\r\n",
        "\r\n",
        "for i in range(60, len(test_data)):\r\n",
        "    X_test.append(test_data[i-60:i,0])\r\n",
        "    \r\n",
        "X_test = np.array(X_test)\r\n",
        "X_test = np.reshape(X_test, (X_test.shape[0], X_test.shape[1], 1))\r\n",
        "\r\n",
        "predictions = model.predict(X_test)\r\n",
        "predictions = scaler.inverse_transform(predictions)\r\n",
        "\r\n",
        "rmse = np.sqrt(np.mean(predictions - y_test) ** 2)\r\n",
        "print(rmse)\r\n",
        "\r\n",
        "train = data[:training_data_len]\r\n",
        "valid = data[training_data_len:]\r\n",
        "valid['predictions'] = predictions\r\n",
        "\r\n",
        "plt.figure(figsize=(7,3))\r\n",
        "plt.title('Model')\r\n",
        "plt.xlabel('Data', fontsize=18)\r\n",
        "plt.ylabel('Close price', fontsize=18)\r\n",
        "plt.plot(train['Close'])\r\n",
        "plt.plot(valid[['Close', 'predictions']])\r\n",
        "plt.legend(['Train', 'Val', 'Predictions'], loc='lower right')\r\n",
        "plt.grid()\r\n",
        "plt.plot()"
      ],
      "execution_count": null,
      "outputs": [
        {
          "output_type": "stream",
          "text": [
            "Requirement already satisfied: python-binance in /usr/local/lib/python3.6/dist-packages (0.7.9)\n",
            "Requirement already satisfied: urllib3 in /usr/local/lib/python3.6/dist-packages (from python-binance) (1.24.3)\n",
            "Requirement already satisfied: requests in /usr/local/lib/python3.6/dist-packages (from python-binance) (2.23.0)\n",
            "Requirement already satisfied: dateparser in /usr/local/lib/python3.6/dist-packages (from python-binance) (1.0.0)\n",
            "Requirement already satisfied: ujson in /usr/local/lib/python3.6/dist-packages (from python-binance) (4.0.1)\n",
            "Requirement already satisfied: autobahn in /usr/local/lib/python3.6/dist-packages (from python-binance) (20.12.3)\n",
            "Requirement already satisfied: Twisted in /usr/local/lib/python3.6/dist-packages (from python-binance) (20.3.0)\n",
            "Requirement already satisfied: service-identity in /usr/local/lib/python3.6/dist-packages (from python-binance) (18.1.0)\n",
            "Requirement already satisfied: six in /usr/local/lib/python3.6/dist-packages (from python-binance) (1.15.0)\n",
            "Requirement already satisfied: pyOpenSSL in /usr/local/lib/python3.6/dist-packages (from python-binance) (20.0.1)\n",
            "Requirement already satisfied: cryptography in /usr/local/lib/python3.6/dist-packages (from python-binance) (3.3.1)\n",
            "Requirement already satisfied: certifi in /usr/local/lib/python3.6/dist-packages (from python-binance) (2020.12.5)\n",
            "Requirement already satisfied: chardet<4,>=3.0.2 in /usr/local/lib/python3.6/dist-packages (from requests->python-binance) (3.0.4)\n",
            "Requirement already satisfied: idna<3,>=2.5 in /usr/local/lib/python3.6/dist-packages (from requests->python-binance) (2.10)\n",
            "Requirement already satisfied: python-dateutil in /usr/local/lib/python3.6/dist-packages (from dateparser->python-binance) (2.8.1)\n",
            "Requirement already satisfied: regex!=2019.02.19 in /usr/local/lib/python3.6/dist-packages (from dateparser->python-binance) (2019.12.20)\n",
            "Requirement already satisfied: tzlocal in /usr/local/lib/python3.6/dist-packages (from dateparser->python-binance) (1.5.1)\n",
            "Requirement already satisfied: pytz in /usr/local/lib/python3.6/dist-packages (from dateparser->python-binance) (2018.9)\n",
            "Requirement already satisfied: hyperlink>=20.0.1 in /usr/local/lib/python3.6/dist-packages (from autobahn->python-binance) (20.0.1)\n",
            "Requirement already satisfied: txaio>=20.4.1 in /usr/local/lib/python3.6/dist-packages (from autobahn->python-binance) (20.12.1)\n",
            "Requirement already satisfied: attrs>=19.2.0 in /usr/local/lib/python3.6/dist-packages (from Twisted->python-binance) (20.3.0)\n",
            "Requirement already satisfied: incremental>=16.10.1 in /usr/local/lib/python3.6/dist-packages (from Twisted->python-binance) (17.5.0)\n",
            "Requirement already satisfied: constantly>=15.1 in /usr/local/lib/python3.6/dist-packages (from Twisted->python-binance) (15.1.0)\n",
            "Requirement already satisfied: PyHamcrest!=1.10.0,>=1.9.0 in /usr/local/lib/python3.6/dist-packages (from Twisted->python-binance) (2.0.2)\n",
            "Requirement already satisfied: Automat>=0.3.0 in /usr/local/lib/python3.6/dist-packages (from Twisted->python-binance) (20.2.0)\n",
            "Requirement already satisfied: zope.interface>=4.4.2 in /usr/local/lib/python3.6/dist-packages (from Twisted->python-binance) (5.2.0)\n",
            "Requirement already satisfied: pyasn1-modules in /usr/local/lib/python3.6/dist-packages (from service-identity->python-binance) (0.2.8)\n",
            "Requirement already satisfied: pyasn1 in /usr/local/lib/python3.6/dist-packages (from service-identity->python-binance) (0.4.8)\n",
            "Requirement already satisfied: cffi>=1.12 in /usr/local/lib/python3.6/dist-packages (from cryptography->python-binance) (1.14.4)\n",
            "Requirement already satisfied: setuptools in /usr/local/lib/python3.6/dist-packages (from zope.interface>=4.4.2->Twisted->python-binance) (51.0.0)\n",
            "Requirement already satisfied: pycparser in /usr/local/lib/python3.6/dist-packages (from cffi>=1.12->cryptography->python-binance) (2.20)\n",
            "Epoch 1/25\n",
            "6954/6954 [==============================] - 168s 24ms/step - loss: 1.6363e-04\n",
            "Epoch 2/25\n",
            "6954/6954 [==============================] - 163s 23ms/step - loss: 3.7819e-05\n",
            "Epoch 3/25\n",
            "6954/6954 [==============================] - 160s 23ms/step - loss: 2.2066e-05\n",
            "Epoch 4/25\n",
            "6954/6954 [==============================] - 159s 23ms/step - loss: 2.3052e-05\n",
            "Epoch 5/25\n",
            "6954/6954 [==============================] - 158s 23ms/step - loss: 1.7653e-05\n",
            "Epoch 6/25\n",
            "6954/6954 [==============================] - 160s 23ms/step - loss: 2.2453e-05\n",
            "Epoch 7/25\n",
            "6954/6954 [==============================] - 159s 23ms/step - loss: 1.4675e-05\n",
            "Epoch 8/25\n",
            "6954/6954 [==============================] - 159s 23ms/step - loss: 1.3484e-05\n",
            "Epoch 9/25\n",
            " 939/6954 [===>..........................] - ETA: 2:16 - loss: 1.0252e-05"
          ],
          "name": "stdout"
        }
      ]
    },
    {
      "cell_type": "markdown",
      "metadata": {
        "id": "bBEuS3pKh1UF"
      },
      "source": [
        "# Predictions"
      ]
    },
    {
      "cell_type": "code",
      "metadata": {
        "colab": {
          "base_uri": "https://localhost:8080/"
        },
        "id": "VzjDPpBrVXG2",
        "outputId": "8eba3498-8c30-4a30-92cd-6e4422163f82"
      },
      "source": [
        "#Get the quote\n",
        "currency = client.get_historical_klines(symbol=symbol, interval=Client.KLINE_INTERVAL_1MINUTE, start_str=\"24 hours ago UTC\")\n",
        "currency = pd.DataFrame(currency, columns = ['Open time', 'Open', 'High', 'Low', 'Close', 'Volume', 'Close time', 'Quote asset volume',\n",
        "                                  'Number of trades', 'Taker buy base asset volume', 'Taker buy quote asset volume', 'Ignore'])\n",
        "currency['Open time'] = pd.to_datetime(currency['Open time'], unit='ms')\n",
        " \n",
        "currency.set_index('Open time', inplace = True)\n",
        "currency['Close'] = currency['Close'].astype(float)\n",
        "currency['Volume'] = currency['Volume'].astype(float)\n",
        "currency['Open'] = currency['Open'].astype(float)\n",
        "currency['High'] = currency['High'].astype(float)\n",
        "currency['Low'] = currency['Low'].astype(float)\n",
        "currency = currency.drop(currency[['Close time', 'Quote asset volume', 'Number of trades', 'Taker buy base asset volume', 'Taker buy quote asset volume', 'Ignore']], 1)\n",
        " \n",
        "##Create a new dataframe\n",
        "new_df = currency.filter(['Close'])\n",
        "##Get teh last 180 minute closing price \n",
        " \n",
        "for i in range(20):\n",
        "  last_180_minute = new_df[-180:].values\n",
        "  ##Scale the data to be values between 0 and 1\n",
        "  last_180_minute_scaled = scaler.transform(last_180_minute)\n",
        "  ##Create an empty list\n",
        "  X_test = []\n",
        "  ##Append teh past 180 minute\n",
        " \n",
        "  X_test.append(last_180_minute_scaled)\n",
        " \n",
        "  ##Convert the X_test data set to a numpy array\n",
        " \n",
        "  X_test = np.array(X_test)\n",
        " \n",
        "  #Reshape the data\n",
        "  X_test = np.reshape(X_test, (X_test.shape[0], X_test.shape[1], 1))\n",
        " \n",
        "  #Get the predicted scaled price\n",
        "  pred_price = model.predict(X_test)\n",
        "  #undo the scaling \n",
        "  pred_price = scaler.inverse_transform(pred_price)\n",
        "  print(pred_price)\n",
        "  print()\n",
        "  \n",
        "  df_pred_price = pd.DataFrame({'Close': pred_price[:, 0]})\n",
        "  new_df = new_df.append(df_pred_price)\n",
        " \n",
        "print(new_df.tail())"
      ],
      "execution_count": 4,
      "outputs": [
        {
          "output_type": "stream",
          "text": [
            "WARNING:tensorflow:Model was constructed with shape (None, 60, 1) for input KerasTensor(type_spec=TensorSpec(shape=(None, 60, 1), dtype=tf.float32, name='lstm_input'), name='lstm_input', description=\"created by layer 'lstm_input'\"), but it was called on an input with incompatible shape (None, 180, 1).\n",
            "[[1205.2661]]\n",
            "\n",
            "[[1210.2147]]\n",
            "\n",
            "[[1214.6857]]\n",
            "\n",
            "[[1218.2935]]\n",
            "\n",
            "[[1221.3276]]\n",
            "\n",
            "[[1224.0817]]\n",
            "\n",
            "[[1226.7059]]\n",
            "\n",
            "[[1229.2236]]\n",
            "\n",
            "[[1231.6051]]\n",
            "\n",
            "[[1233.8224]]\n",
            "\n",
            "[[1235.8674]]\n",
            "\n",
            "[[1237.7485]]\n",
            "\n",
            "[[1239.4814]]\n",
            "\n",
            "[[1241.0825]]\n",
            "\n",
            "[[1242.5658]]\n",
            "\n",
            "[[1243.943]]\n",
            "\n",
            "[[1245.2245]]\n",
            "\n",
            "[[1246.4196]]\n",
            "\n",
            "[[1247.5359]]\n",
            "\n",
            "[[1248.581]]\n",
            "\n",
            "         Close\n",
            "0  1243.942993\n",
            "0  1245.224487\n",
            "0  1246.419556\n",
            "0  1247.535889\n",
            "0  1248.581055\n"
          ],
          "name": "stdout"
        }
      ]
    },
    {
      "cell_type": "code",
      "metadata": {
        "colab": {
          "base_uri": "https://localhost:8080/",
          "height": 358
        },
        "id": "KkwjD7p_d_ZT",
        "outputId": "2623378d-da9a-4a78-ca62-0fecdf76e50e"
      },
      "source": [
        "%matplotlib inline\n",
        " \n",
        "plt.figure(figsize=(20,5))\n",
        "plt.title('Predictions')\n",
        "plt.xlabel('Data', fontsize=18)\n",
        "plt.ylabel('Close price', fontsize=18)\n",
        "plt.plot(new_df['Close'].values[new_df.shape[0]-20:])\n",
        "plt.grid()\n",
        "plt.show()"
      ],
      "execution_count": 5,
      "outputs": [
        {
          "output_type": "display_data",
          "data": {
            "image/png": "[encoded data removed]",
            "text/plain": [
              "<Figure size 1440x360 with 1 Axes>"
            ]
          },
          "metadata": {
            "tags": [],
            "needs_background": "light"
          }
        }
      ]
    },
    {
      "cell_type": "code",
      "metadata": {
        "colab": {
          "base_uri": "https://localhost:8080/"
        },
        "id": "4ogIlTmOg7tQ",
        "outputId": "a52214d1-bbfd-4abf-cb6f-ffa9bb1340f6"
      },
      "source": [
        "print(new_df.tail(21))"
      ],
      "execution_count": 6,
      "outputs": [
        {
          "output_type": "stream",
          "text": [
            "                           Close\n",
            "2021-01-07 06:48:00  1200.000000\n",
            "0                    1205.266113\n",
            "0                    1210.214722\n",
            "0                    1214.685669\n",
            "0                    1218.293457\n",
            "0                    1221.327637\n",
            "0                    1224.081665\n",
            "0                    1226.705933\n",
            "0                    1229.223633\n",
            "0                    1231.605103\n",
            "0                    1233.822388\n",
            "0                    1235.867432\n",
            "0                    1237.748535\n",
            "0                    1239.481445\n",
            "0                    1241.082520\n",
            "0                    1242.565796\n",
            "0                    1243.942993\n",
            "0                    1245.224487\n",
            "0                    1246.419556\n",
            "0                    1247.535889\n",
            "0                    1248.581055\n"
          ],
          "name": "stdout"
        }
      ]
    }
  ]
}
